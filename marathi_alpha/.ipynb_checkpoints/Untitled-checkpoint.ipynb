{
 "cells": [
  {
   "cell_type": "code",
   "execution_count": 1,
   "id": "bbaff704-ccfa-42fb-b47a-191242f529b5",
   "metadata": {},
   "outputs": [],
   "source": [
    "import pandas as pd"
   ]
  },
  {
   "cell_type": "code",
   "execution_count": 2,
   "id": "36e7a21f-71b9-4b21-87bc-ba288cb67b16",
   "metadata": {},
   "outputs": [],
   "source": [
    "data=[\n",
    "    {\"epoch\": 1, \"loss\": 5.2937, \"accuracy\": 0.0379, \"val_loss\": 2.7654, \"val_accuracy\": 0.2226},\n",
    "    {\"epoch\": 2, \"loss\": 1.5064, \"accuracy\": 0.5179, \"val_loss\": 0.8250, \"val_accuracy\": 0.7086},\n",
    "    {\"epoch\": 3, \"loss\": 0.4817, \"accuracy\": 0.8350, \"val_loss\": 0.3425, \"val_accuracy\": 0.8832},\n",
    "    {\"epoch\": 4, \"loss\": 0.2506, \"accuracy\": 0.9178, \"val_loss\": 0.1810, \"val_accuracy\": 0.9454},\n",
    "    {\"epoch\": 5, \"loss\": 0.1875, \"accuracy\": 0.9382, \"val_loss\": 0.2645, \"val_accuracy\": 0.9119},\n",
    "    {\"epoch\": 6, \"loss\": 0.1517, \"accuracy\": 0.9497, \"val_loss\": 0.1481, \"val_accuracy\": 0.9561},\n",
    "    {\"epoch\": 7, \"loss\": 0.1403, \"accuracy\": 0.9536, \"val_loss\": 0.1373, \"val_accuracy\": 0.9524},\n",
    "    {\"epoch\": 8, \"loss\": 0.1252, \"accuracy\": 0.9590, \"val_loss\": 0.0963, \"val_accuracy\": 0.9668},\n",
    "    {\"epoch\": 9, \"loss\": 0.1239, \"accuracy\": 0.9576, \"val_loss\": 0.1367, \"val_accuracy\": 0.9548},\n",
    "    {\"epoch\": 10, \"loss\": 0.1026, \"accuracy\": 0.9655, \"val_loss\": 0.1064, \"val_accuracy\": 0.9655},\n",
    "    {\"epoch\": 11, \"loss\": 0.0952, \"accuracy\": 0.9667, \"val_loss\": 0.1041, \"val_accuracy\": 0.9631},\n",
    "    {\"epoch\": 12, \"loss\": 0.1048, \"accuracy\": 0.9632, \"val_loss\": 0.1071, \"val_accuracy\": 0.9613},\n",
    "    {\"epoch\": 13, \"loss\": 0.0766, \"accuracy\": 0.9735, \"val_loss\": 0.0653, \"val_accuracy\": 0.9762},\n",
    "    {\"epoch\": 14, \"loss\": 0.0828, \"accuracy\": 0.9688, \"val_loss\": 0.0654, \"val_accuracy\": 0.9756},\n",
    "    {\"epoch\": 15, \"loss\": 0.0840, \"accuracy\": 0.9692, \"val_loss\": 0.1289, \"val_accuracy\": 0.9552},\n",
    "    {\"epoch\": 16, \"loss\": 0.0817, \"accuracy\": 0.9690, \"val_loss\": 0.1144, \"val_accuracy\": 0.9603},\n",
    "    {\"epoch\": 17, \"loss\": 0.0621, \"accuracy\": 0.9759, \"val_loss\": 0.0516, \"val_accuracy\": 0.9793},\n",
    "    {\"epoch\": 18, \"loss\": 0.0886, \"accuracy\": 0.9676, \"val_loss\": 0.0585, \"val_accuracy\": 0.9752},\n",
    "    {\"epoch\": 19, \"loss\": 0.0436, \"accuracy\": 0.9822, \"val_loss\": 0.0720, \"val_accuracy\": 0.9724},\n",
    "    {\"epoch\": 20, \"loss\": 0.0885, \"accuracy\": 0.9674, \"val_loss\": 0.0766, \"val_accuracy\": 0.9727},\n",
    "    {\"epoch\": 21, \"loss\": 0.0634, \"accuracy\": 0.9743, \"val_loss\": 0.0610, \"val_accuracy\": 0.9764},\n",
    "    {\"epoch\": 22, \"loss\": 0.0578, \"accuracy\": 0.9774, \"val_loss\": 0.0798, \"val_accuracy\": 0.9716},\n",
    "    {\"epoch\": 23, \"loss\": 0.0702, \"accuracy\": 0.9735, \"val_loss\": 0.0381, \"val_accuracy\": 0.9824},\n",
    "    {\"epoch\": 24, \"loss\": 0.0409, \"accuracy\": 0.9818, \"val_loss\": 0.0587, \"val_accuracy\": 0.9765},\n",
    "    {\"epoch\": 25, \"loss\": 0.0781, \"accuracy\": 0.9703, \"val_loss\": 0.0607, \"val_accuracy\": 0.9756},\n",
    "    {\"epoch\": 26, \"loss\": 0.0517, \"accuracy\": 0.9779, \"val_loss\": 0.0528, \"val_accuracy\": 0.9780},\n",
    "    {\"epoch\": 27, \"loss\": 0.0637, \"accuracy\": 0.9739, \"val_loss\": 0.1191, \"val_accuracy\": 0.9555},\n",
    "    {\"epoch\": 28, \"loss\": 0.0460, \"accuracy\": 0.9801, \"val_loss\": 0.0723, \"val_accuracy\": 0.9718},\n",
    "    {\"epoch\": 29, \"loss\": 0.0521, \"accuracy\": 0.9784, \"val_loss\": 0.0342, \"val_accuracy\": 0.9835},\n",
    "    {\"epoch\": 30, \"loss\": 0.0307, \"accuracy\": 0.9850, \"val_loss\": 0.0319, \"val_accuracy\": 0.9841},\n",
    "    {\"epoch\": 31, \"loss\": 0.0697, \"accuracy\": 0.9740, \"val_loss\": 0.0647, \"val_accuracy\": 0.9749},\n",
    "    {\"epoch\": 32, \"loss\": 0.0354, \"accuracy\": 0.9837, \"val_loss\": 0.0338, \"val_accuracy\": 0.9837},\n",
    "    {\"epoch\": 33, \"loss\": 0.0637, \"accuracy\": 0.9747, \"val_loss\": 0.0697, \"val_accuracy\": 0.9727},\n",
    "    {\"epoch\": 34, \"loss\": 0.0471, \"accuracy\": 0.9801, \"val_loss\": 0.0354, \"val_accuracy\": 0.9827},\n",
    "    {\"epoch\": 35, \"loss\": 0.0281, \"accuracy\": 0.9857, \"val_loss\": 0.0320, \"val_accuracy\": 0.9847},\n",
    "    {\"epoch\": 36, \"loss\": 0.0613, \"accuracy\": 0.9764, \"val_loss\": 0.0505, \"val_accuracy\": 0.9785},\n",
    "    {\"epoch\": 37, \"loss\": 0.0336, \"accuracy\": 0.9846, \"val_loss\": 0.0329, \"val_accuracy\": 0.9834},\n",
    "    {\"epoch\": 38, \"loss\": 0.0287, \"accuracy\": 0.9863, \"val_loss\": 0.0366, \"val_accuracy\": 0.9834},\n",
    "    {\"epoch\": 39, \"loss\": 0.0644, \"accuracy\": 0.9756, \"val_loss\": 0.0365, \"val_accuracy\": 0.9814},\n",
    "    {\"epoch\": 40, \"loss\": 0.0313, \"accuracy\": 0.9851, \"val_loss\": 0.0302, \"val_accuracy\": 0.9855},\n",
    "    {\"epoch\": 41, \"loss\": 0.0520, \"accuracy\": 0.9789, \"val_loss\": 0.1359, \"val_accuracy\": 0.9486},\n",
    "    {\"epoch\": 42, \"loss\": 0.0342, \"accuracy\": 0.9838, \"val_loss\": 0.0260, \"val_accuracy\": 0.9861},\n",
    "    {\"epoch\": 43, \"loss\": 0.0455, \"accuracy\": 0.9804, \"val_loss\": 0.0601, \"val_accuracy\": 0.9780},\n",
    "    {\"epoch\": 44, \"loss\": 0.0364, \"accuracy\": 0.9831, \"val_loss\": 0.0567, \"val_accuracy\": 0.9733},\n",
    "    {\"epoch\": 45, \"loss\": 0.0415, \"accuracy\": 0.9821, \"val_loss\": 0.0250, \"val_accuracy\": 0.9870},\n",
    "    {\"epoch\": 46, \"loss\": 0.0223, \"accuracy\": 0.9888, \"val_loss\": 0.0228, \"val_accuracy\": 0.9865},\n",
    "    {\"epoch\": 47, \"loss\": 0.0296, \"accuracy\": 0.9859, \"val_loss\": 0.0377, \"val_accuracy\": 0.9821},\n",
    "    {\"epoch\": 48, \"loss\": 0.0385, \"accuracy\": 0.9823, \"val_loss\": 0.0223, \"val_accuracy\": 0.9870},\n",
    "    {\"epoch\": 49, \"loss\": 0.0546, \"accuracy\": 0.9772, \"val_loss\": 0.0258, \"val_accuracy\": 0.9863},\n",
    "    {\"epoch\": 50, \"loss\": 0.0277, \"accuracy\": 0.9859, \"val_loss\": 0.0221, \"val_accuracy\": 0.9865}\n",
    "]\n"
   ]
  },
  {
   "cell_type": "code",
   "execution_count": 3,
   "id": "c316d0b0-47c3-469e-85fa-0d7b04dcb336",
   "metadata": {},
   "outputs": [],
   "source": [
    "df=pd.DataFrame(data)"
   ]
  },
  {
   "cell_type": "code",
   "execution_count": 6,
   "id": "22c8e8c7-ffd7-47f4-9c3a-b5a843207827",
   "metadata": {},
   "outputs": [],
   "source": [
    "%matplotlib inline"
   ]
  },
  {
   "cell_type": "code",
   "execution_count": 7,
   "id": "f5fe708c-74ff-4f1a-87bb-624dd654e5fe",
   "metadata": {},
   "outputs": [],
   "source": [
    "df.to_csv(\"stats.csv\")"
   ]
  },
  {
   "cell_type": "code",
   "execution_count": null,
   "id": "34fee607-c6aa-4532-9b37-07fe6289db05",
   "metadata": {},
   "outputs": [],
   "source": []
  }
 ],
 "metadata": {
  "kernelspec": {
   "display_name": "Python 3 (ipykernel)",
   "language": "python",
   "name": "python3"
  },
  "language_info": {
   "codemirror_mode": {
    "name": "ipython",
    "version": 3
   },
   "file_extension": ".py",
   "mimetype": "text/x-python",
   "name": "python",
   "nbconvert_exporter": "python",
   "pygments_lexer": "ipython3",
   "version": "3.11.5"
  }
 },
 "nbformat": 4,
 "nbformat_minor": 5
}
