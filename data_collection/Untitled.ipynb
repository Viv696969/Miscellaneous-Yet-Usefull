{
 "cells": [
  {
   "cell_type": "code",
   "execution_count": 1,
   "id": "47d887b8-535e-412c-98b1-cf8253aa2f24",
   "metadata": {},
   "outputs": [],
   "source": [
    "import numpy as np\n",
    "import cv2 as cv\n",
    "import os"
   ]
  },
  {
   "cell_type": "code",
   "execution_count": 2,
   "id": "f9aa1365-db98-4d96-b12f-fb1c7f9eb7c7",
   "metadata": {},
   "outputs": [],
   "source": [
    "cap=cv.VideoCapture(0)\n",
    "while True:\n",
    "    _,frame=cap.read()\n",
    "\n",
    "    cv.imshow('frame',frame)\n",
    "    if cv.waitKey(10)==27:\n",
    "        cap.release()\n",
    "        break\n",
    "\n",
    "cv.destroyAllWindows()"
   ]
  },
  {
   "cell_type": "code",
   "execution_count": 10,
   "id": "f733d20e-0f3e-4999-95a0-25edf1ca8bf7",
   "metadata": {},
   "outputs": [
    {
     "name": "stdin",
     "output_type": "stream",
     "text": [
      "Enter Action= indian\n"
     ]
    }
   ],
   "source": [
    "action_name=input(\"Enter Action=\")"
   ]
  },
  {
   "cell_type": "code",
   "execution_count": 3,
   "id": "535db3f9-4830-4d95-8460-6de14b76a4cd",
   "metadata": {},
   "outputs": [],
   "source": [
    "import uuid"
   ]
  },
  {
   "cell_type": "code",
   "execution_count": 11,
   "id": "daface1a-03a5-41fb-ae75-443f79301d83",
   "metadata": {},
   "outputs": [],
   "source": [
    "count=0\n",
    "cap=cv.VideoCapture(0)\n",
    "while True:\n",
    "    _,frame=cap.read()\n",
    "    cv.imshow('frame',frame)\n",
    "    cv.imwrite(os.path.join('images',f'{action_name}_{str(uuid.uuid1())}.jpg'),frame)\n",
    "    if cv.waitKey(1)==27 or count==700:\n",
    "        cap.release()\n",
    "        break\n",
    "    count+=1\n",
    "\n",
    "cv.destroyAllWindows()"
   ]
  },
  {
   "cell_type": "code",
   "execution_count": 6,
   "id": "2cb8b20a-8465-46d3-bae9-b9e5dd01653e",
   "metadata": {},
   "outputs": [
    {
     "data": {
      "text/plain": [
       "'a0de3263-32bb-11ef-8bdf-2c6e85a76f9c'"
      ]
     },
     "execution_count": 6,
     "metadata": {},
     "output_type": "execute_result"
    }
   ],
   "source": [
    "str(uuid.uuid1())"
   ]
  },
  {
   "cell_type": "code",
   "execution_count": null,
   "id": "f01ffdb8-66d3-4b4f-a224-660b51e0def1",
   "metadata": {},
   "outputs": [],
   "source": []
  }
 ],
 "metadata": {
  "kernelspec": {
   "display_name": "Python 3 (ipykernel)",
   "language": "python",
   "name": "python3"
  },
  "language_info": {
   "codemirror_mode": {
    "name": "ipython",
    "version": 3
   },
   "file_extension": ".py",
   "mimetype": "text/x-python",
   "name": "python",
   "nbconvert_exporter": "python",
   "pygments_lexer": "ipython3",
   "version": "3.11.5"
  }
 },
 "nbformat": 4,
 "nbformat_minor": 5
}
